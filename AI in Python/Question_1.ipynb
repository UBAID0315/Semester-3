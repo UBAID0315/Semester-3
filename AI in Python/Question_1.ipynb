{
 "cells": [
  {
   "cell_type": "code",
   "execution_count": 16,
   "metadata": {},
   "outputs": [
    {
     "name": "stdout",
     "output_type": "stream",
     "text": [
      "The sum of total 15 numbers is 120\n"
     ]
    }
   ],
   "source": [
    "number = input()\n",
    "number = int(number)\n",
    "\n",
    "if number <= 1:\n",
    "    print('Invalid number')\n",
    "elif number > 1:\n",
    "    for i in range(0,number):\n",
    "        number+=i\n",
    "    print(f'The sum of total {i+1} numbers is {number}')\n"
   ]
  }
 ],
 "metadata": {
  "kernelspec": {
   "display_name": "Python 3",
   "language": "python",
   "name": "python3"
  },
  "language_info": {
   "codemirror_mode": {
    "name": "ipython",
    "version": 3
   },
   "file_extension": ".py",
   "mimetype": "text/x-python",
   "name": "python",
   "nbconvert_exporter": "python",
   "pygments_lexer": "ipython3",
   "version": "3.11.4"
  },
  "orig_nbformat": 4
 },
 "nbformat": 4,
 "nbformat_minor": 2
}
