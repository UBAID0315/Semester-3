{
 "cells": [
  {
   "cell_type": "code",
   "execution_count": 5,
   "metadata": {},
   "outputs": [
    {
     "name": "stdout",
     "output_type": "stream",
     "text": [
      "Hello ubaid, how may i assist you?\n"
     ]
    },
    {
     "ename": "TypeError",
     "evalue": "list indices must be integers or slices, not datetime.datetime",
     "output_type": "error",
     "traceback": [
      "\u001b[1;31m---------------------------------------------------------------------------\u001b[0m",
      "\u001b[1;31mTypeError\u001b[0m                                 Traceback (most recent call last)",
      "Cell \u001b[1;32mIn[5], line 36\u001b[0m\n\u001b[0;32m     34\u001b[0m name \u001b[39m=\u001b[39m \u001b[39minput\u001b[39m(\u001b[39m\"\u001b[39m\u001b[39mPlease enter your name: \u001b[39m\u001b[39m\"\u001b[39m)\n\u001b[0;32m     35\u001b[0m \u001b[39mprint\u001b[39m(\u001b[39mf\u001b[39m\u001b[39m\"\u001b[39m\u001b[39mHello \u001b[39m\u001b[39m{\u001b[39;00mname\u001b[39m}\u001b[39;00m\u001b[39m, how may i assist you?\u001b[39m\u001b[39m\"\u001b[39m)\n\u001b[1;32m---> 36\u001b[0m chatbot()\n\u001b[0;32m     38\u001b[0m \u001b[39mwhile\u001b[39;00m \u001b[39mTrue\u001b[39;00m:\n\u001b[0;32m     39\u001b[0m     choose \u001b[39m=\u001b[39m \u001b[39minput\u001b[39m(\u001b[39m\"\u001b[39m\u001b[39mDo you want more help?\u001b[39m\u001b[39m\"\u001b[39m)\n",
      "Cell \u001b[1;32mIn[5], line 8\u001b[0m, in \u001b[0;36mchatbot\u001b[1;34m()\u001b[0m\n\u001b[0;32m      4\u001b[0m \u001b[39mdef\u001b[39;00m \u001b[39mchatbot\u001b[39m():\n\u001b[0;32m      5\u001b[0m \u001b[39m# ------------------------------------------------------------------------------\u001b[39;00m\n\u001b[0;32m      6\u001b[0m     user_input \u001b[39m=\u001b[39m \u001b[39minput\u001b[39m(\u001b[39m\"\u001b[39m\u001b[39mEnter your question you want to ask: \u001b[39m\u001b[39m\"\u001b[39m)\n\u001b[1;32m----> 8\u001b[0m     response(user_input)\n",
      "Cell \u001b[1;32mIn[5], line 20\u001b[0m, in \u001b[0;36mresponse\u001b[1;34m(user_input)\u001b[0m\n\u001b[0;32m     18\u001b[0m     \u001b[39mprint\u001b[39m(\u001b[39m\"\u001b[39m\u001b[39mPresent time is: \u001b[39m\u001b[39m\"\u001b[39m,time)\n\u001b[0;32m     19\u001b[0m \u001b[39melif\u001b[39;00m user_input\u001b[39m.\u001b[39mlower() \u001b[39m==\u001b[39m \u001b[39m\"\u001b[39m\u001b[39mwhat is the day today\u001b[39m\u001b[39m\"\u001b[39m:\n\u001b[1;32m---> 20\u001b[0m     day \u001b[39m=\u001b[39m calendar\u001b[39m.\u001b[39;49mday_name[datetime\u001b[39m.\u001b[39;49mnow()]\n\u001b[0;32m     21\u001b[0m     \u001b[39mprint\u001b[39m(\u001b[39m\"\u001b[39m\u001b[39mToday is: \u001b[39m\u001b[39m\"\u001b[39m,day)\n\u001b[0;32m     22\u001b[0m \u001b[39melif\u001b[39;00m user_input\u001b[39m.\u001b[39mlower() \u001b[39m==\u001b[39m \u001b[39m\"\u001b[39m\u001b[39mgive me the info about ai\u001b[39m\u001b[39m\"\u001b[39m:\n",
      "File \u001b[1;32mc:\\Users\\inoxe\\AppData\\Local\\Programs\\Python\\Python311\\Lib\\calendar.py:80\u001b[0m, in \u001b[0;36m_localized_day.__getitem__\u001b[1;34m(self, i)\u001b[0m\n\u001b[0;32m     79\u001b[0m \u001b[39mdef\u001b[39;00m \u001b[39m__getitem__\u001b[39m(\u001b[39mself\u001b[39m, i):\n\u001b[1;32m---> 80\u001b[0m     funcs \u001b[39m=\u001b[39m \u001b[39mself\u001b[39;49m\u001b[39m.\u001b[39;49m_days[i]\n\u001b[0;32m     81\u001b[0m     \u001b[39mif\u001b[39;00m \u001b[39misinstance\u001b[39m(i, \u001b[39mslice\u001b[39m):\n\u001b[0;32m     82\u001b[0m         \u001b[39mreturn\u001b[39;00m [f(\u001b[39mself\u001b[39m\u001b[39m.\u001b[39mformat) \u001b[39mfor\u001b[39;00m f \u001b[39min\u001b[39;00m funcs]\n",
      "\u001b[1;31mTypeError\u001b[0m: list indices must be integers or slices, not datetime.datetime"
     ]
    }
   ],
   "source": [
    "from datetime import datetime\n",
    "import calendar\n",
    "\n",
    "def chatbot():\n",
    "# ------------------------------------------------------------------------------\n",
    "    user_input = input(\"Enter your question you want to ask: \")\n",
    "    \n",
    "    response(user_input)\n",
    "\n",
    "#--------------------------------------------------------------------------------\n",
    "def response(user_input):\n",
    "\n",
    "    if user_input.lower() == \"tell me the date today\":\n",
    "        today = datetime.today()\n",
    "        print(\"Today date is: \",today)\n",
    "    elif user_input.lower() == \"tell me the time\":\n",
    "        time = datetime.now()\n",
    "        print(\"Present time is: \",time)\n",
    "    elif user_input.lower() == \"what is the day today\":\n",
    "        day = calendar.day_name[datetime.now()]\n",
    "        print(\"Today is: \",day)\n",
    "    elif user_input.lower() == \"give me the info about ai\":\n",
    "        print(\"AI is stands for Artificial Intelligence.\\nIt is the study of give the brain of humans\\nto the machine through coding\")\n",
    "    elif user_input.lower() == \"bye\" or \"exit\":\n",
    "        print(\"THANK YOU!\")\n",
    "\n",
    "\n",
    "data = [\"Tell me the date today\",\"Tell me the time\",\n",
    "        \"Give me the info about AI\",\"bye\",\"exit\",\n",
    "        \"What is the day today\"\n",
    "        ]\n",
    "\n",
    "\n",
    "name = input(\"Please enter your name: \")\n",
    "print(f\"Hello {name}, how may i assist you?\")\n",
    "chatbot()\n",
    "\n",
    "while True:\n",
    "    choose = input(\"Do you want more help?\")\n",
    "    if choose.lower() == \"yes\":\n",
    "        chatbot()\n",
    "    else:\n",
    "        print(\"I am happy to help you :)\")\n",
    "        break\n",
    "\n",
    "\n",
    "\n",
    "\n",
    "        \n",
    "        "
   ]
  }
 ],
 "metadata": {
  "kernelspec": {
   "display_name": "Python 3",
   "language": "python",
   "name": "python3"
  },
  "language_info": {
   "codemirror_mode": {
    "name": "ipython",
    "version": 3
   },
   "file_extension": ".py",
   "mimetype": "text/x-python",
   "name": "python",
   "nbconvert_exporter": "python",
   "pygments_lexer": "ipython3",
   "version": "3.11.4"
  },
  "orig_nbformat": 4
 },
 "nbformat": 4,
 "nbformat_minor": 2
}
