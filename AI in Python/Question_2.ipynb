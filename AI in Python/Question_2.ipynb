{
 "cells": [
  {
   "cell_type": "code",
   "execution_count": 9,
   "metadata": {},
   "outputs": [
    {
     "name": "stdout",
     "output_type": "stream",
     "text": [
      "Welcome to My Hauted House :) \n",
      " Only choose right and left option \n",
      " BE CAREFUL YOU MAY GET TRAP IF WRONG!\n",
      "Choose the option again\n",
      "Left/Right\n",
      "You fell into the well, Loss\n"
     ]
    }
   ],
   "source": [
    "print(f'Welcome to My Hauted House :) \\n Only choose right and left option \\n BE CAREFUL YOU MAY GET TRAP IF WRONG!')\n",
    "\n",
    "\n",
    "while 1:\n",
    "    direction = input()\n",
    "\n",
    "    if direction == 'right' or direction == 'Right':\n",
    "        print(f'Choose the option again\\nLeft/Right')\n",
    "        choice = input()\n",
    "        \n",
    "        if choice == 'left' or choice == 'Left':\n",
    "            print(f'Congratulation you found the treasure!')\n",
    "            break\n",
    "        elif choice == 'right' or choice == 'Right':\n",
    "            print(f'You fell into the well, Loss')\n",
    "            break\n",
    "        else:\n",
    "            print(f'Invalid turn')\n",
    "            break\n",
    "\n",
    "    elif direction == 'left' or direction == 'Left':\n",
    "        print(f'You choose wrong direction :(')\n",
    "        break\n",
    "    \n",
    "    else:\n",
    "        print(f'Invalid Direction')\n",
    "        break"
   ]
  }
 ],
 "metadata": {
  "kernelspec": {
   "display_name": "Python 3",
   "language": "python",
   "name": "python3"
  },
  "language_info": {
   "codemirror_mode": {
    "name": "ipython",
    "version": 3
   },
   "file_extension": ".py",
   "mimetype": "text/x-python",
   "name": "python",
   "nbconvert_exporter": "python",
   "pygments_lexer": "ipython3",
   "version": "3.11.4"
  },
  "orig_nbformat": 4
 },
 "nbformat": 4,
 "nbformat_minor": 2
}
