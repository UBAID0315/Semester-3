{
 "cells": [
  {
   "cell_type": "code",
   "execution_count": null,
   "metadata": {},
   "outputs": [],
   "source": [
    "Mathematics_Students = 45\n",
    "Science_Students = 35\n",
    "Math_Science_Students = 20\n",
    "\n",
    "set_Math = {Mathematics_Students}\n",
    "set_Science = {Science_Students}\n",
    "set_both = {Math_Science_Students}\n",
    "\n",
    "print(\"Union of Students: \", set_Math | set_Science)\n",
    "print(\"Union of Students: \", set_Math.union(set_Science),\"\\n\")\n",
    "print(\"Intersaction of Students: \", set_Math & set_Science)\n",
    "print(\"Intersaction of Students: \", set_Math.intersection(set_Science),\"\\n\")\n",
    "print(\"Mathematics Student: \", Mathematics_Students - Math_Science_Students)\n",
    "print(\"Science Students: \", Science_Students - Math_Science_Students)\n"
   ]
  },
  {
   "cell_type": "code",
   "execution_count": null,
   "metadata": {},
   "outputs": [],
   "source": [
    "input = \"Hello world! This is simple world\"\n",
    "my_dict = {}\n",
    "frequency = 0\n",
    "\n",
    "words = input.split()\n",
    "my_dict[\"input\"] = words\n",
    "\n",
    "for word in words:\n",
    "    if word in my_dict:\n",
    "        my_dict[word] += 1\n",
    "    else:\n",
    "        my_dict[word] = 1\n",
    "\n",
    "for i,frequency in my_dict.items():\n",
    "    print(f'{i}: {frequency}')"
   ]
  },
  {
   "cell_type": "code",
   "execution_count": null,
   "metadata": {},
   "outputs": [],
   "source": [
    "my_dict = {'rope': 1,'torch': 6, 'gold coins': 42,\"dagger\": 1,'arrow': 12}\n",
    "\n",
    "print(\"Player Inventory: \\n\")\n",
    "\n",
    "for keys,values in my_dict.items():\n",
    "    print(f'{keys} : {values}')\n",
    "\n",
    "print(\"Total number of items: \",sum(my_dict.values()))"
   ]
  }
 ],
 "metadata": {
  "kernelspec": {
   "display_name": "Python 3",
   "language": "python",
   "name": "python3"
  },
  "language_info": {
   "codemirror_mode": {
    "name": "ipython",
    "version": 3
   },
   "file_extension": ".py",
   "mimetype": "text/x-python",
   "name": "python",
   "nbconvert_exporter": "python",
   "pygments_lexer": "ipython3",
   "version": "3.11.4"
  },
  "orig_nbformat": 4
 },
 "nbformat": 4,
 "nbformat_minor": 2
}
