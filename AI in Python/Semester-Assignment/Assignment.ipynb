{
 "cells": [
  {
   "cell_type": "code",
   "execution_count": null,
   "metadata": {},
   "outputs": [],
   "source": [
    "import matplotlib.pyplot as plt\n",
    "import pandas as pd\n",
    "\n",
    "df = pd.read_csv(\"sales_data.csv\", encoding='latin1')\n",
    "\n",
    "month2003 = df[df[\"YEAR_ID\"] == 2003]\n",
    "month2004 = df[df[\"YEAR_ID\"] == 2004]\n",
    "month2005 = df[df[\"YEAR_ID\"] == 2005]\n",
    "\n",
    "average2003 = int(month2003[\"QUANTITYORDERED\"].sum() / len(month2003))\n",
    "average2004 = int(month2004[\"QUANTITYORDERED\"].sum() / len(month2004))\n",
    "average2005 = int(month2005[\"QUANTITYORDERED\"].sum() / len(month2005))\n",
    "years = [2003,2004,2005]\n",
    "\n",
    "plt.bar(years, [average2003,average2004,average2005], color = \"blue\",width=0.3)\n",
    "plt.xlabel(\"Year\")\n",
    "plt.ylabel('Average Quantity Ordered')\n",
    "plt.title('Average Quantity Ordered per Year')\n",
    "plt.show()"
   ]
  },
  {
   "cell_type": "code",
   "execution_count": null,
   "metadata": {},
   "outputs": [],
   "source": [
    "import xml.etree.ElementTree as ET\n",
    "import pandas as pd\n",
    "import os\n",
    "\n",
    "files_path = r\"C:\\Users\\inoxe\\OneDrive\\Desktop\\Assignment\\datasets\"\n",
    "data_list = []\n",
    "\n",
    "for file in os.listdir(files_path):\n",
    "    if file.endswith('.xml'):\n",
    "        tree = ET.parse(os.path.join(files_path, file))\n",
    "        root = tree.getroot()\n",
    "\n",
    "        for event in root.findall('.//Event'):\n",
    "            for item in event.findall('.//Attribute/item'):\n",
    "                category = item.find('category').text\n",
    "                value = item.find('value').text\n",
    "                data_list.append({\"Category\":category,\"Values\":value})\n",
    "\n",
    "df = pd.DataFrame(data_list)\n",
    "df = df.drop_duplicates()\n",
    "df = df.dropna()\n",
    "\n",
    "csv_file = os.path.join(files_path,'CTI_cat_val_dataset.csv')\n",
    "with open(csv_file,'w',newline = '',encoding = \"utf-8\"):\n",
    "    df.to_csv(csv_file,index=False)\n",
    "\n",
    "print(f'CSV file created successfully')\n"
   ]
  },
  {
   "cell_type": "code",
   "execution_count": null,
   "metadata": {},
   "outputs": [],
   "source": [
    "import pandas as pd\n",
    "\n",
    "path_file = \"CTI_cat_val_dataset.csv\"\n",
    "file = pd.read_csv(path_file,encoding='latin1')\n",
    "\n",
    "df = pd.DataFrame(file)\n",
    "df"
   ]
  }
 ],
 "metadata": {
  "kernelspec": {
   "display_name": "Python 3",
   "language": "python",
   "name": "python3"
  },
  "language_info": {
   "codemirror_mode": {
    "name": "ipython",
    "version": 3
   },
   "file_extension": ".py",
   "mimetype": "text/x-python",
   "name": "python",
   "nbconvert_exporter": "python",
   "pygments_lexer": "ipython3",
   "version": "3.12.0"
  }
 },
 "nbformat": 4,
 "nbformat_minor": 2
}
