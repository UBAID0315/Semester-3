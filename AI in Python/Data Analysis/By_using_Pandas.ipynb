import pandas as pd

index = ["Name_of_the_Student","University","Program_name","Specialization","Semester","Domain","General_Management_System","Domain_Score","Total_Score","Rank","Percentile"]
df = pd.read_csv("./Private_data.csv")

# <--------------- # Data loading as Dataframe ------------------->

df = pd.DataFrame(df)                   

# <---------------- For removing the duplicates ------------------>

df = df.drop_duplicates()                
df.columns = index                       

# <---------------- Statistical Analysis ---------------->
print("Maximum: \n")
print(df.min())
print("\n----------------------------------------------------\n")
print("Minimum: \n")
print(df.max())
print("\n----------------------------------------------------\n")
print("Describe \n")
print(df.describe())
print("\n----------------------------------------------------\n")
print("Sum \n")
print(df.sum())
print("\n----------------------------------------------------\n")
print("Transpose Describe \n")
df.T.describe()
