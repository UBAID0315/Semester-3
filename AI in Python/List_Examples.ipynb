{
 "cells": [
  {
   "cell_type": "code",
   "execution_count": null,
   "metadata": {},
   "outputs": [],
   "source": [
    "word_list = [\"Apple\", \"Banana\", \"Avocado\", \"Cherry\", \"Apricot\", \"Graphes\"]\n",
    "\n",
    "filtered = list(filter(lambda string: string[0]=='A',word_list))\n",
    "\n",
    "print(f'Words start with A: {filtered}')\n",
    "print(f'Total count: {len(filtered)}')"
   ]
  },
  {
   "cell_type": "code",
   "execution_count": null,
   "metadata": {},
   "outputs": [],
   "source": [
    "employee_salary = [10000,20000,60000,80000,70000,100000,65000,75000]\n",
    "\n",
    "result = list(map(lambda salary: (salary*0.1)+salary,employee_salary))\n",
    "filtered = list(filter(lambda salary: salary < 50000,result))\n",
    "\n",
    "print(f'Employee Salary less than 50k: {filtered}')\n",
    "print(f'The budget: {sum(filtered)}')"
   ]
  },
  {
   "cell_type": "code",
   "execution_count": null,
   "metadata": {},
   "outputs": [],
   "source": [
    "from datetime import date\n",
    "\n",
    "current_date = date.today()\n",
    "items = [\"Milk\", \"Bread\", \"Eggs\", \"Yogurt\", \"Cheese\"]\n",
    "expiration_dates = [date(2023, 10, 15), date(2023, 10, 15),\n",
    "                    date(2023, 9, 25), date(2023, 9, 8), \n",
    "                    date(2023, 8, 10)]\n",
    "\n",
    "filtered = list(filter(lambda value: value > current_date, expiration_dates))\n",
    "zipped = zip(items,filtered)\n",
    "\n",
    "print(\"Invntory of Unexpired items: \")\n",
    "print(list(zipped))"
   ]
  }
 ],
 "metadata": {
  "kernelspec": {
   "display_name": "Python 3",
   "language": "python",
   "name": "python3"
  },
  "language_info": {
   "codemirror_mode": {
    "name": "ipython",
    "version": 3
   },
   "file_extension": ".py",
   "mimetype": "text/x-python",
   "name": "python",
   "nbconvert_exporter": "python",
   "pygments_lexer": "ipython3",
   "version": "3.11.4"
  },
  "orig_nbformat": 4
 },
 "nbformat": 4,
 "nbformat_minor": 2
}
